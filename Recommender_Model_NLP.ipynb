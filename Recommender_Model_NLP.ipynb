{
 "cells": [
  {
   "cell_type": "markdown",
   "id": "3dc820df-b973-4ab7-a965-dfe82353a4ab",
   "metadata": {},
   "source": [
    "# Course Recommeder System"
   ]
  },
  {
   "cell_type": "markdown",
   "id": "dee51bbe-eb4b-40f6-b46f-a9105744b7f1",
   "metadata": {},
   "source": [
    "*In case you do not have sentence_transformers installed in your environment, please execute the cell below to install it.*"
   ]
  },
  {
   "cell_type": "code",
   "execution_count": 1,
   "id": "b222f1e9-56f9-4afb-b080-f5ec613cceab",
   "metadata": {},
   "outputs": [],
   "source": [
    "#pip install -U sentence-transformers"
   ]
  },
  {
   "cell_type": "markdown",
   "id": "2f208c4a-2c17-4911-896a-d0758d0993c7",
   "metadata": {},
   "source": [
    "Necessary imports for the notebook."
   ]
  },
  {
   "cell_type": "code",
   "execution_count": 2,
   "id": "29e1de3b-ceb5-4fdf-adf8-48b0cede722e",
   "metadata": {},
   "outputs": [],
   "source": [
    "import pandas as pd\n",
    "import numpy as np\n",
    "import pickle\n",
    "from sentence_transformers import SentenceTransformer\n",
    "from transformers import pipeline\n",
    "from sklearn.metrics.pairwise import cosine_similarity\n",
    "import json\n",
    "import random"
   ]
  },
  {
   "cell_type": "markdown",
   "id": "3365cb4a-c2d8-48f5-8576-ebcacce403d6",
   "metadata": {
    "tags": []
   },
   "source": [
    "## 1. Data Loading"
   ]
  },
  {
   "cell_type": "markdown",
   "id": "a8032545-76e0-40e3-93f3-eb3c6689180e",
   "metadata": {},
   "source": [
    "Load of the necessary data for this notebook:"
   ]
  },
  {
   "cell_type": "markdown",
   "id": "7c5c8c34-80d3-4c29-88d5-6e8939788a60",
   "metadata": {},
   "source": [
    "- **df_course**: information of the Udemy courses extracted using the API from Udemy (see Notebook \"Udemy_api\").\n",
    "    - *Title*: course name.\n",
    "    - *Category*: course category.\n",
    "    - *SubCategory*: course subcategory.\n",
    "    - *Description*: course description. This is what will be used to pair courses with users.\n",
    "    - *Rating*: course rating from Udemy users.\n",
    "    - *Price*: course price.\n",
    "    - *IsPaid*: boolean. FALSE is not free, TRUE is free.\n",
    "    - *Subscribers*: number of people subscribe to the course. \n",
    "    - *Level*: difficulty of the course.\n",
    "    - *URL*: link to the course Udemy page."
   ]
  },
  {
   "cell_type": "markdown",
   "id": "1f6ed360-ce4f-4e5d-adcb-9a1b16ed5dcf",
   "metadata": {},
   "source": [
    "- **df_users**: this xlsx contains the answer and ground truth from various users.  \n",
    "    - *id*: user id.\n",
    "    - *user_answer*: user answers to the questionnaire. \n",
    "    - *ground_truth_10*: top 10 user real course ranking from the 20 most suitable courses.\n",
    "    - *ground_truth_5*: top 5 user real course ranking from the 20 most suitable courses."
   ]
  },
  {
   "cell_type": "code",
   "execution_count": 3,
   "id": "0b4f6564-bb22-46b8-90e1-ddaf6b73b236",
   "metadata": {},
   "outputs": [],
   "source": [
    "# Read the courses catalog\n",
    "df_courses = pd.read_csv(\"courses_udemy.csv\")\n",
    "# Read the user information\n",
    "df_users = pd.read_excel(\"user_info.xlsx\")"
   ]
  },
  {
   "cell_type": "markdown",
   "id": "bf828e6b-aa96-428c-9cf2-9224abcde624",
   "metadata": {},
   "source": [
    "Display of the *df_courses* dataset."
   ]
  },
  {
   "cell_type": "code",
   "execution_count": 4,
   "id": "da61b85c-1d54-42bc-a89f-24ef65cb2ac7",
   "metadata": {},
   "outputs": [
    {
     "data": {
      "text/html": [
       "<div>\n",
       "<style scoped>\n",
       "    .dataframe tbody tr th:only-of-type {\n",
       "        vertical-align: middle;\n",
       "    }\n",
       "\n",
       "    .dataframe tbody tr th {\n",
       "        vertical-align: top;\n",
       "    }\n",
       "\n",
       "    .dataframe thead th {\n",
       "        text-align: right;\n",
       "    }\n",
       "</style>\n",
       "<table border=\"1\" class=\"dataframe\">\n",
       "  <thead>\n",
       "    <tr style=\"text-align: right;\">\n",
       "      <th></th>\n",
       "      <th>Unnamed: 0</th>\n",
       "      <th>Title</th>\n",
       "      <th>Category</th>\n",
       "      <th>SubCategory</th>\n",
       "      <th>Description</th>\n",
       "      <th>Rating</th>\n",
       "      <th>Price</th>\n",
       "      <th>IsPaid</th>\n",
       "      <th>Subscribers</th>\n",
       "      <th>Level</th>\n",
       "      <th>URL</th>\n",
       "    </tr>\n",
       "  </thead>\n",
       "  <tbody>\n",
       "    <tr>\n",
       "      <th>0</th>\n",
       "      <td>0</td>\n",
       "      <td>Web Design for Web Developers: Build Beautiful...</td>\n",
       "      <td>Development</td>\n",
       "      <td>Web Development</td>\n",
       "      <td>IMPORTANT NOTE: The material of this course is...</td>\n",
       "      <td>4.408938</td>\n",
       "      <td>Free</td>\n",
       "      <td>False</td>\n",
       "      <td>660246</td>\n",
       "      <td>All Levels</td>\n",
       "      <td>/course/web-design-secrets/</td>\n",
       "    </tr>\n",
       "    <tr>\n",
       "      <th>1</th>\n",
       "      <td>1</td>\n",
       "      <td>Introduction To Python Programming</td>\n",
       "      <td>Development</td>\n",
       "      <td>Programming Languages</td>\n",
       "      <td>\\tDo you want to become a programmer?     \\t...</td>\n",
       "      <td>4.414743</td>\n",
       "      <td>Free</td>\n",
       "      <td>False</td>\n",
       "      <td>856821</td>\n",
       "      <td>Beginner</td>\n",
       "      <td>/course/pythonforbeginnersintro/</td>\n",
       "    </tr>\n",
       "    <tr>\n",
       "      <th>2</th>\n",
       "      <td>2</td>\n",
       "      <td>Java Tutorial for Complete Beginners</td>\n",
       "      <td>Development</td>\n",
       "      <td>Programming Languages</td>\n",
       "      <td>\\t        Learn to program in the Java progr...</td>\n",
       "      <td>4.477733</td>\n",
       "      <td>Free</td>\n",
       "      <td>False</td>\n",
       "      <td>1816465</td>\n",
       "      <td>All Levels</td>\n",
       "      <td>/course/java-tutorial/</td>\n",
       "    </tr>\n",
       "    <tr>\n",
       "      <th>3</th>\n",
       "      <td>3</td>\n",
       "      <td>Deep Learning Prerequisites: The Numpy Stack i...</td>\n",
       "      <td>Development</td>\n",
       "      <td>Data Science</td>\n",
       "      <td>Welcome! This is Deep Learning, Machine Learni...</td>\n",
       "      <td>4.591549</td>\n",
       "      <td>Free</td>\n",
       "      <td>False</td>\n",
       "      <td>52116</td>\n",
       "      <td>All Levels</td>\n",
       "      <td>/course/numpy-python/</td>\n",
       "    </tr>\n",
       "    <tr>\n",
       "      <th>4</th>\n",
       "      <td>4</td>\n",
       "      <td>Javascript Essentials</td>\n",
       "      <td>Development</td>\n",
       "      <td>Web Development</td>\n",
       "      <td>Learn the Javascript essentials for web develo...</td>\n",
       "      <td>4.495833</td>\n",
       "      <td>Free</td>\n",
       "      <td>False</td>\n",
       "      <td>375148</td>\n",
       "      <td>Beginner</td>\n",
       "      <td>/course/javascript-essentials/</td>\n",
       "    </tr>\n",
       "  </tbody>\n",
       "</table>\n",
       "</div>"
      ],
      "text/plain": [
       "   Unnamed: 0                                              Title     Category  \\\n",
       "0           0  Web Design for Web Developers: Build Beautiful...  Development   \n",
       "1           1                 Introduction To Python Programming  Development   \n",
       "2           2               Java Tutorial for Complete Beginners  Development   \n",
       "3           3  Deep Learning Prerequisites: The Numpy Stack i...  Development   \n",
       "4           4                              Javascript Essentials  Development   \n",
       "\n",
       "             SubCategory                                        Description  \\\n",
       "0        Web Development  IMPORTANT NOTE: The material of this course is...   \n",
       "1  Programming Languages    \\tDo you want to become a programmer?     \\t...   \n",
       "2  Programming Languages    \\t        Learn to program in the Java progr...   \n",
       "3           Data Science  Welcome! This is Deep Learning, Machine Learni...   \n",
       "4        Web Development  Learn the Javascript essentials for web develo...   \n",
       "\n",
       "     Rating Price  IsPaid  Subscribers       Level  \\\n",
       "0  4.408938  Free   False       660246  All Levels   \n",
       "1  4.414743  Free   False       856821    Beginner   \n",
       "2  4.477733  Free   False      1816465  All Levels   \n",
       "3  4.591549  Free   False        52116  All Levels   \n",
       "4  4.495833  Free   False       375148    Beginner   \n",
       "\n",
       "                                URL  \n",
       "0       /course/web-design-secrets/  \n",
       "1  /course/pythonforbeginnersintro/  \n",
       "2            /course/java-tutorial/  \n",
       "3             /course/numpy-python/  \n",
       "4    /course/javascript-essentials/  "
      ]
     },
     "execution_count": 4,
     "metadata": {},
     "output_type": "execute_result"
    }
   ],
   "source": [
    "# Display of the df_courses\n",
    "df_courses.head()"
   ]
  },
  {
   "cell_type": "markdown",
   "id": "614117c6-7fe8-4853-9a5e-c34e6bd994e3",
   "metadata": {},
   "source": [
    "Display of the *df_users* dataset."
   ]
  },
  {
   "cell_type": "code",
   "execution_count": 5,
   "id": "c9c193e6-8243-4bbb-894e-c82ebebc7ee0",
   "metadata": {},
   "outputs": [
    {
     "data": {
      "text/html": [
       "<div>\n",
       "<style scoped>\n",
       "    .dataframe tbody tr th:only-of-type {\n",
       "        vertical-align: middle;\n",
       "    }\n",
       "\n",
       "    .dataframe tbody tr th {\n",
       "        vertical-align: top;\n",
       "    }\n",
       "\n",
       "    .dataframe thead th {\n",
       "        text-align: right;\n",
       "    }\n",
       "</style>\n",
       "<table border=\"1\" class=\"dataframe\">\n",
       "  <thead>\n",
       "    <tr style=\"text-align: right;\">\n",
       "      <th></th>\n",
       "      <th>id</th>\n",
       "      <th>user_answer</th>\n",
       "      <th>ground_truth_10</th>\n",
       "      <th>ground_truth_5</th>\n",
       "    </tr>\n",
       "  </thead>\n",
       "  <tbody>\n",
       "    <tr>\n",
       "      <th>0</th>\n",
       "      <td>1</td>\n",
       "      <td>My favourite subject in school is Art. I belie...</td>\n",
       "      <td>[15, 1967, 765, 564, 272, 71, 966, 1589, 1303,...</td>\n",
       "      <td>[15, 1967, 765, 564, 272]</td>\n",
       "    </tr>\n",
       "    <tr>\n",
       "      <th>1</th>\n",
       "      <td>2</td>\n",
       "      <td>My favourite subject in school is Fine Arts.\\n...</td>\n",
       "      <td>[15, 1967, 272, 71, 1589, 1902, 966, 2513, 546...</td>\n",
       "      <td>[15, 1967, 272, 71, 1589]</td>\n",
       "    </tr>\n",
       "    <tr>\n",
       "      <th>2</th>\n",
       "      <td>3</td>\n",
       "      <td>My favourite subject is Music.\\nI use technolo...</td>\n",
       "      <td>[1875, 2552, 2683, 2342, 958, 2032, 1912, 2155...</td>\n",
       "      <td>[1875, 2552, 2683, 2342, 958]</td>\n",
       "    </tr>\n",
       "    <tr>\n",
       "      <th>3</th>\n",
       "      <td>4</td>\n",
       "      <td>My favorite subject in school right now is def...</td>\n",
       "      <td>[1233, 2302, 130, 600, 1165, 2418, 2609, 1710,...</td>\n",
       "      <td>[1233, 2302, 130, 600, 1165]</td>\n",
       "    </tr>\n",
       "    <tr>\n",
       "      <th>4</th>\n",
       "      <td>5</td>\n",
       "      <td>Economics is my favorite subject in school. Un...</td>\n",
       "      <td>[1195, 1379, 166, 2114, 931, 1916, 1598, 1762,...</td>\n",
       "      <td>[1195, 1379, 166, 2114, 931]</td>\n",
       "    </tr>\n",
       "  </tbody>\n",
       "</table>\n",
       "</div>"
      ],
      "text/plain": [
       "   id                                        user_answer  \\\n",
       "0   1  My favourite subject in school is Art. I belie...   \n",
       "1   2  My favourite subject in school is Fine Arts.\\n...   \n",
       "2   3  My favourite subject is Music.\\nI use technolo...   \n",
       "3   4  My favorite subject in school right now is def...   \n",
       "4   5  Economics is my favorite subject in school. Un...   \n",
       "\n",
       "                                     ground_truth_10  \\\n",
       "0  [15, 1967, 765, 564, 272, 71, 966, 1589, 1303,...   \n",
       "1  [15, 1967, 272, 71, 1589, 1902, 966, 2513, 546...   \n",
       "2  [1875, 2552, 2683, 2342, 958, 2032, 1912, 2155...   \n",
       "3  [1233, 2302, 130, 600, 1165, 2418, 2609, 1710,...   \n",
       "4  [1195, 1379, 166, 2114, 931, 1916, 1598, 1762,...   \n",
       "\n",
       "                  ground_truth_5  \n",
       "0      [15, 1967, 765, 564, 272]  \n",
       "1      [15, 1967, 272, 71, 1589]  \n",
       "2  [1875, 2552, 2683, 2342, 958]  \n",
       "3   [1233, 2302, 130, 600, 1165]  \n",
       "4   [1195, 1379, 166, 2114, 931]  "
      ]
     },
     "execution_count": 5,
     "metadata": {},
     "output_type": "execute_result"
    }
   ],
   "source": [
    "# Display of the df_users\n",
    "df_users.head()"
   ]
  },
  {
   "cell_type": "markdown",
   "id": "28203cec-e026-4b2b-983a-1086e591502d",
   "metadata": {
    "tags": []
   },
   "source": [
    "# 2. Course Description Embeddings"
   ]
  },
  {
   "cell_type": "markdown",
   "id": "2f610d5e-bddb-4565-82c5-ab610b156c10",
   "metadata": {},
   "source": [
    "To effectively process and analyze the descriptions of Udemy courses, we will employ the LLMs provided by HuggingFace. Specifically, we will utilize the `SentenceTransformer()` class from the *sentence_transformers* library to leverage the capabilities of the **all-MiniLM-L6-v2** model for embedding our course descriptions ([more information about the model](https://arxiv.org/abs/2002.10957)).\n",
    "\n",
    "In an attempt to further enhance the recommendation system, we explored the application of a summarization algorithm. This was motivated by the fact that the **all-MiniLM-L6-v2** sentence transformer is trained on shorter sentences. Considering that some course descriptions can be lengthy, we hypothesized that summarizing the descriptions could improve the model's performance by providing a more concise context for training.\n",
    "\n",
    "However, after thorough experimentation, we discovered that the summarization process significantly decreased the quality of our recommendations. Consequently, we decided to discard this approach in favor of maintaining the original course descriptions. Nonetheless, we have retained the code in this notebook for documentation purposes."
   ]
  },
  {
   "cell_type": "markdown",
   "id": "8c2fa5f0-5c31-4454-a353-79d1c80903bf",
   "metadata": {},
   "source": [
    "------"
   ]
  },
  {
   "cell_type": "markdown",
   "id": "df7539d4-86f8-4339-8192-156d3c4771b5",
   "metadata": {},
   "source": [
    "### *Discarded code*"
   ]
  },
  {
   "cell_type": "markdown",
   "id": "9349f2a4-2219-41d4-9206-e3cea598bc1d",
   "metadata": {},
   "source": [
    "Summarization of the courses description only for those that have more than 400 tokens separated with a space. At the end, we are going to save the courses DataFrame with the corresponding summarization in a csv in order to not have to do the summarization every time we execute the notebook."
   ]
  },
  {
   "cell_type": "code",
   "execution_count": 6,
   "id": "cd9e54d5-beb0-4bfa-8f8f-4d82633a6fa3",
   "metadata": {},
   "outputs": [],
   "source": [
    "# Create the summarizer\n",
    "#summarizer = pipeline(\"summarization\", model=\"facebook/bart-large-cnn\")\n",
    "# Creation of summ_Description\n",
    "#df_courses[\"sum_Description\"] = \"\"\n",
    "# Iterate over the rows of the DataFrame\n",
    "#for index, row in df_courses.iterrows():\n",
    "    # Select the description of the course\n",
    "    #description = str(row[\"Description\"])\n",
    "    # Check if the description is too long in order to summarize it\n",
    "    #if len(description.split()) > 400:\n",
    "        #try: \n",
    "            # Set the value to sum_Description\n",
    "            #df_courses.at[index, \"sum_Description\"] = summarizer(description, max_length=300, min_length=30, do_sample=False)[0][\"summary_text\"]\n",
    "        #except Exception as e:\n",
    "            # In case the description is still too big, we are gonna keep going\n",
    "            #print(\"The course with index \", index, \" exceeds the maximun amount of token permited by the summarizer. Original description is going to be keep.\")\n",
    "            #df_courses.at[index, \"sum_Description\"] = row[\"Description\"]\n",
    "    #else:\n",
    "        # Pass the original description if it is not big enough\n",
    "        #df_courses.at[index, \"sum_Description\"] = row[\"Description\"]\n",
    "#Save the new csv into a csv\n",
    "#df_courses.to_csv(\"courses_udemy_sum.csv\")\n",
    "# Summarize the course descriptions\n",
    "#df_courses.head()"
   ]
  },
  {
   "cell_type": "markdown",
   "id": "1ba43bf1-1a55-451b-81d0-48aa9143dd92",
   "metadata": {},
   "source": [
    "-----"
   ]
  },
  {
   "cell_type": "markdown",
   "id": "c655a5ec-e048-4b66-8a78-25fec079fa4c",
   "metadata": {},
   "source": [
    "Creation of the courses embedding. "
   ]
  },
  {
   "cell_type": "code",
   "execution_count": 7,
   "id": "8f010a3b-8ef0-475d-bead-0c1e140d593d",
   "metadata": {},
   "outputs": [],
   "source": [
    "# Read the courses catalog description\n",
    "df_courses_sum = pd.read_csv(\"courses_udemy.csv\")\n",
    "# Course description list\n",
    "courses_desc_sum = df_courses_sum[\"Description\"]\n",
    "# Vectorize the courses description\n",
    "# Model instance\n",
    "model = SentenceTransformer('sentence-transformers/all-MiniLM-L6-v2')\n",
    "# Encode the course description\n",
    "course_embeddings = model.encode(np.array(courses_desc_sum))"
   ]
  },
  {
   "cell_type": "markdown",
   "id": "d35744a0-adf5-4386-a19c-93056da08839",
   "metadata": {},
   "source": [
    "Save the course embeddings in a picke file."
   ]
  },
  {
   "cell_type": "code",
   "execution_count": 8,
   "id": "b66ec206-5748-45bb-a158-d94336c3838d",
   "metadata": {},
   "outputs": [],
   "source": [
    "# Open a file in write binary mode\n",
    "with open('course_embeddings_all_mini.pkl', 'wb') as file:\n",
    "    # Use pickle to dump the list into the file\n",
    "    pickle.dump(course_embeddings, file)"
   ]
  },
  {
   "cell_type": "markdown",
   "id": "880752fd-cc51-4486-a174-823204a520d3",
   "metadata": {},
   "source": [
    "We save the course embeddings in a pickle file because this step only needs to be done once. This optimizes the run time of our front-end app."
   ]
  },
  {
   "cell_type": "markdown",
   "id": "d29366d1-2620-4356-95cc-52ced3d6889b",
   "metadata": {
    "tags": []
   },
   "source": [
    "# 3. Users Course Predictions"
   ]
  },
  {
   "cell_type": "markdown",
   "id": "b421c60c-6a11-4d79-a305-5afd76ae4c75",
   "metadata": {},
   "source": [
    "Read the pickle file to extract the course embeddings. *This is how it will be done in the front-end app*."
   ]
  },
  {
   "cell_type": "code",
   "execution_count": 9,
   "id": "44d26f38-2447-424b-aa04-192cb1437e45",
   "metadata": {},
   "outputs": [],
   "source": [
    "# Course embeddings variable\n",
    "course_embeddings = []\n",
    "# Open the file in read binary mode\n",
    "with open('course_embeddings_all_mini.pkl', 'rb') as file:\n",
    "    # Use pickle to load the list of course embeddings from the file\n",
    "    course_embeddings = pickle.load(file)"
   ]
  },
  {
   "cell_type": "markdown",
   "id": "dcae2a26-aeef-43de-8655-d07cbe281d5a",
   "metadata": {},
   "source": [
    "In order to calculate the predicted courses per user, we are going to wrap the code in a function called `course_pred()`. This function follows these steps:\n",
    "\n",
    "1. Vectorizes the user answers by using the same sentence transformer model we have used for the course description.\n",
    "2. Calculates the *cosine_similarity* between every course embedded and the user answers embedded.\n",
    "3. Generates a dictionary with all the courses and the corresponding *cosine_similarity* to the user.\n",
    "4. Selects the 20 most relevant courses for that user (those with the highest cosine_similarity).\n",
    "5. Select the top N courses you want to return."
   ]
  },
  {
   "cell_type": "code",
   "execution_count": 10,
   "id": "e39d1d93-8954-4f90-a997-6f342973377e",
   "metadata": {},
   "outputs": [],
   "source": [
    "def course_pred(user_ans, courses, top):\n",
    "    # Model instance\n",
    "    model = SentenceTransformer('sentence-transformers/all-MiniLM-L6-v2')\n",
    "    # Encode the user answer\n",
    "    user_ans_emb = model.encode(user_ans)\n",
    "    # Dic with cosine_similarity per course\n",
    "    array_cos_sim = {}\n",
    "    \n",
    "    # Loop in courses\n",
    "    for i in range(len(courses)):\n",
    "        # Pair of vectors to compare\n",
    "        comp_pair = [user_ans_emb, courses[i]]\n",
    "        # Calculation of the cosine_similarity\n",
    "        array_cos_sim[i] = (cosine_similarity(comp_pair[0].reshape(1, -1), comp_pair[1].reshape(1, -1)))\n",
    "        \n",
    "    # Sort the dictionary\n",
    "    sorted_dict = dict(sorted(array_cos_sim.items(), key=lambda item: item[1], reverse=True))\n",
    "    # Select the the top 20 courses\n",
    "    top_20_items = dict(list(sorted_dict.items())[:20])\n",
    "    # Extract the keys from the top 20 dictionary\n",
    "    top_20_keys = list(top_20_items.keys())\n",
    "    # Select only the number of predictions you want to return\n",
    "    sel_keys = top_20_keys[0:top]\n",
    "    # Return the selected ids courses\n",
    "    return sel_keys"
   ]
  },
  {
   "cell_type": "markdown",
   "id": "701a3b8d-de43-46fd-b6ac-0a648a18e972",
   "metadata": {},
   "source": [
    "Furthermore, we will introduce a variation of the `course_pred()` function to serve as our benchmark model. This new function, called `course_pred_rand()`, will randomize the the 20 most relevant courses before selecting the top N recommendations. By randomizing the recommendations, we aim to establish a baseline performance for our recommendation system."
   ]
  },
  {
   "cell_type": "code",
   "execution_count": 11,
   "id": "54da5734-d998-46cd-ae86-43e60d1fc88e",
   "metadata": {},
   "outputs": [],
   "source": [
    "def course_pred_rand(user_ans, courses, top):\n",
    "    # Model instance\n",
    "    model = SentenceTransformer('sentence-transformers/all-MiniLM-L6-v2')\n",
    "    # Encode the user answer\n",
    "    user_ans_emb = model.encode(user_ans)\n",
    "    # Dic with cosine_similarity per course\n",
    "    array_cos_sim = {}\n",
    "    \n",
    "    # Loop in courses\n",
    "    for i in range(len(courses)):\n",
    "        # Pair of vectors to compare\n",
    "        comp_pair = [user_ans_emb, courses[i]]\n",
    "        # Calculation of the cosine_similarity\n",
    "        array_cos_sim[i] = (cosine_similarity(comp_pair[0].reshape(1, -1), comp_pair[1].reshape(1, -1)))\n",
    "        \n",
    "    # Sort the dictionary\n",
    "    sorted_dict = dict(sorted(array_cos_sim.items(), key=lambda item: item[1], reverse=True))\n",
    "    # Select the the top 20 most relevant courses\n",
    "    top_20_items = dict(list(sorted_dict.items())[:20])\n",
    "    # Extract the keys from the top 20 dictionary\n",
    "    top_20_keys = list(top_20_items.keys())\n",
    "    # Shuffle the top_20_keys\n",
    "    random.shuffle(top_20_keys)\n",
    "    # Select only the number of predictions you want to return\n",
    "    sel_keys = top_20_keys[0:top]\n",
    "    # Return the selected ids courses\n",
    "    return sel_keys"
   ]
  },
  {
   "cell_type": "markdown",
   "id": "996e22fb-0d65-459d-9bfa-d8ca4069a792",
   "metadata": {},
   "source": [
    "Use these `course_pred()` and `course_pred_rand()` functions to calculate all the recommended courses for the users in the *df_users* and save it in a new column."
   ]
  },
  {
   "cell_type": "markdown",
   "id": "a543fe32-8ce6-41f5-ae08-4c80eeabaf7d",
   "metadata": {},
   "source": [
    "Top 10 ranked courses."
   ]
  },
  {
   "cell_type": "code",
   "execution_count": 12,
   "id": "08526c01-3a52-4a27-bcde-0f25632a98e4",
   "metadata": {},
   "outputs": [],
   "source": [
    "# Creation of the top 10 courses predictions column\n",
    "df_users[\"predictions_10\"] = \"\"\n",
    "df_users[\"predictions_rand_10\"] = \"\"\n",
    "# Iterate over the rows of the DataFrame\n",
    "for index, row in df_users.iterrows():\n",
    "    # Calculate the predictions courses: cosine_similarity and random\n",
    "    predictions = course_pred(row[\"user_answer\"], course_embeddings, 10)\n",
    "    predictions_rand = course_pred_rand(row[\"user_answer\"], course_embeddings, 10)\n",
    "    # Set the value to predictions\n",
    "    df_users.at[index, \"predictions_10\"] = predictions\n",
    "    df_users.at[index, \"predictions_rand_10\"] = predictions_rand"
   ]
  },
  {
   "cell_type": "markdown",
   "id": "b121cc73-890d-4fef-b84e-8ab3d646bc9e",
   "metadata": {},
   "source": [
    "Top 5 ranked courses."
   ]
  },
  {
   "cell_type": "code",
   "execution_count": 13,
   "id": "4d06ff31-85f3-4b64-9cc7-9a067f4657f5",
   "metadata": {},
   "outputs": [],
   "source": [
    "# Creation of the top 5 courses predictions column\n",
    "df_users[\"predictions_5\"] = \"\"\n",
    "df_users[\"predictions_rand_5\"] = \"\"\n",
    "# Iterate over the rows of the DataFrame\n",
    "for index, row in df_users.iterrows():\n",
    "    # Calculate the predictions courses\n",
    "    predictions = course_pred(row[\"user_answer\"], course_embeddings, 5)\n",
    "    predictions_rand = course_pred_rand(row[\"user_answer\"], course_embeddings, 5)    \n",
    "    # Set the value to predictions\n",
    "    df_users.at[index, \"predictions_5\"] = predictions\n",
    "    df_users.at[index, \"predictions_rand_5\"] = predictions_rand"
   ]
  },
  {
   "cell_type": "markdown",
   "id": "ef2e6733-9b25-4a57-bb6e-4cd0d2a98f71",
   "metadata": {},
   "source": [
    "Display the *df_users* DataFrame with the prediction columns."
   ]
  },
  {
   "cell_type": "code",
   "execution_count": 14,
   "id": "d4e74ca4-4a99-412c-ab9e-8128a22df0b1",
   "metadata": {},
   "outputs": [
    {
     "data": {
      "text/html": [
       "<div>\n",
       "<style scoped>\n",
       "    .dataframe tbody tr th:only-of-type {\n",
       "        vertical-align: middle;\n",
       "    }\n",
       "\n",
       "    .dataframe tbody tr th {\n",
       "        vertical-align: top;\n",
       "    }\n",
       "\n",
       "    .dataframe thead th {\n",
       "        text-align: right;\n",
       "    }\n",
       "</style>\n",
       "<table border=\"1\" class=\"dataframe\">\n",
       "  <thead>\n",
       "    <tr style=\"text-align: right;\">\n",
       "      <th></th>\n",
       "      <th>id</th>\n",
       "      <th>user_answer</th>\n",
       "      <th>ground_truth_10</th>\n",
       "      <th>ground_truth_5</th>\n",
       "      <th>predictions_10</th>\n",
       "      <th>predictions_rand_10</th>\n",
       "      <th>predictions_5</th>\n",
       "      <th>predictions_rand_5</th>\n",
       "    </tr>\n",
       "  </thead>\n",
       "  <tbody>\n",
       "    <tr>\n",
       "      <th>0</th>\n",
       "      <td>1</td>\n",
       "      <td>My favourite subject in school is Art. I belie...</td>\n",
       "      <td>[15, 1967, 765, 564, 272, 71, 966, 1589, 1303,...</td>\n",
       "      <td>[15, 1967, 765, 564, 272]</td>\n",
       "      <td>[15, 71, 1967, 966, 1237, 1650, 130, 272, 765,...</td>\n",
       "      <td>[1145, 1337, 1237, 1902, 765, 1594, 1632, 71, ...</td>\n",
       "      <td>[15, 71, 1967, 966, 1237]</td>\n",
       "      <td>[1612, 1902, 1632, 1967, 1589]</td>\n",
       "    </tr>\n",
       "    <tr>\n",
       "      <th>1</th>\n",
       "      <td>2</td>\n",
       "      <td>My favourite subject in school is Fine Arts.\\n...</td>\n",
       "      <td>[15, 1967, 272, 71, 1589, 1902, 966, 2513, 546...</td>\n",
       "      <td>[15, 1967, 272, 71, 1589]</td>\n",
       "      <td>[1841, 15, 1902, 1967, 71, 1650, 1589, 1237, 1...</td>\n",
       "      <td>[1524, 140, 1585, 1902, 1841, 1237, 1650, 531,...</td>\n",
       "      <td>[1841, 15, 1902, 1967, 71]</td>\n",
       "      <td>[531, 2513, 546, 2190, 1145]</td>\n",
       "    </tr>\n",
       "    <tr>\n",
       "      <th>2</th>\n",
       "      <td>3</td>\n",
       "      <td>My favourite subject is Music.\\nI use technolo...</td>\n",
       "      <td>[1875, 2552, 2683, 2342, 958, 2032, 1912, 2155...</td>\n",
       "      <td>[1875, 2552, 2683, 2342, 958]</td>\n",
       "      <td>[1199, 1875, 985, 634, 2552, 2067, 1301, 1912,...</td>\n",
       "      <td>[1306, 2342, 2610, 2155, 2552, 2032, 2683, 191...</td>\n",
       "      <td>[1199, 1875, 985, 634, 2552]</td>\n",
       "      <td>[985, 1306, 2552, 2610, 2234]</td>\n",
       "    </tr>\n",
       "    <tr>\n",
       "      <th>3</th>\n",
       "      <td>4</td>\n",
       "      <td>My favorite subject in school right now is def...</td>\n",
       "      <td>[1233, 2302, 130, 600, 1165, 2418, 2609, 1710,...</td>\n",
       "      <td>[1233, 2302, 130, 600, 1165]</td>\n",
       "      <td>[2302, 130, 2609, 596, 600, 1233, 2360, 1165, ...</td>\n",
       "      <td>[2365, 1165, 41, 2051, 1557, 2302, 596, 1420, ...</td>\n",
       "      <td>[2302, 130, 2609, 596, 600]</td>\n",
       "      <td>[1233, 600, 130, 1762, 2365]</td>\n",
       "    </tr>\n",
       "    <tr>\n",
       "      <th>4</th>\n",
       "      <td>5</td>\n",
       "      <td>Economics is my favorite subject in school. Un...</td>\n",
       "      <td>[1195, 1379, 166, 2114, 931, 1916, 1598, 1762,...</td>\n",
       "      <td>[1195, 1379, 166, 2114, 931]</td>\n",
       "      <td>[41, 166, 1195, 931, 2682, 1598, 1916, 1762, 1...</td>\n",
       "      <td>[166, 275, 1669, 1629, 1379, 1916, 1762, 648, ...</td>\n",
       "      <td>[41, 166, 1195, 931, 2682]</td>\n",
       "      <td>[41, 1255, 1629, 275, 2114]</td>\n",
       "    </tr>\n",
       "  </tbody>\n",
       "</table>\n",
       "</div>"
      ],
      "text/plain": [
       "   id                                        user_answer  \\\n",
       "0   1  My favourite subject in school is Art. I belie...   \n",
       "1   2  My favourite subject in school is Fine Arts.\\n...   \n",
       "2   3  My favourite subject is Music.\\nI use technolo...   \n",
       "3   4  My favorite subject in school right now is def...   \n",
       "4   5  Economics is my favorite subject in school. Un...   \n",
       "\n",
       "                                     ground_truth_10  \\\n",
       "0  [15, 1967, 765, 564, 272, 71, 966, 1589, 1303,...   \n",
       "1  [15, 1967, 272, 71, 1589, 1902, 966, 2513, 546...   \n",
       "2  [1875, 2552, 2683, 2342, 958, 2032, 1912, 2155...   \n",
       "3  [1233, 2302, 130, 600, 1165, 2418, 2609, 1710,...   \n",
       "4  [1195, 1379, 166, 2114, 931, 1916, 1598, 1762,...   \n",
       "\n",
       "                  ground_truth_5  \\\n",
       "0      [15, 1967, 765, 564, 272]   \n",
       "1      [15, 1967, 272, 71, 1589]   \n",
       "2  [1875, 2552, 2683, 2342, 958]   \n",
       "3   [1233, 2302, 130, 600, 1165]   \n",
       "4   [1195, 1379, 166, 2114, 931]   \n",
       "\n",
       "                                      predictions_10  \\\n",
       "0  [15, 71, 1967, 966, 1237, 1650, 130, 272, 765,...   \n",
       "1  [1841, 15, 1902, 1967, 71, 1650, 1589, 1237, 1...   \n",
       "2  [1199, 1875, 985, 634, 2552, 2067, 1301, 1912,...   \n",
       "3  [2302, 130, 2609, 596, 600, 1233, 2360, 1165, ...   \n",
       "4  [41, 166, 1195, 931, 2682, 1598, 1916, 1762, 1...   \n",
       "\n",
       "                                 predictions_rand_10  \\\n",
       "0  [1145, 1337, 1237, 1902, 765, 1594, 1632, 71, ...   \n",
       "1  [1524, 140, 1585, 1902, 1841, 1237, 1650, 531,...   \n",
       "2  [1306, 2342, 2610, 2155, 2552, 2032, 2683, 191...   \n",
       "3  [2365, 1165, 41, 2051, 1557, 2302, 596, 1420, ...   \n",
       "4  [166, 275, 1669, 1629, 1379, 1916, 1762, 648, ...   \n",
       "\n",
       "                  predictions_5              predictions_rand_5  \n",
       "0     [15, 71, 1967, 966, 1237]  [1612, 1902, 1632, 1967, 1589]  \n",
       "1    [1841, 15, 1902, 1967, 71]    [531, 2513, 546, 2190, 1145]  \n",
       "2  [1199, 1875, 985, 634, 2552]   [985, 1306, 2552, 2610, 2234]  \n",
       "3   [2302, 130, 2609, 596, 600]    [1233, 600, 130, 1762, 2365]  \n",
       "4    [41, 166, 1195, 931, 2682]     [41, 1255, 1629, 275, 2114]  "
      ]
     },
     "execution_count": 14,
     "metadata": {},
     "output_type": "execute_result"
    }
   ],
   "source": [
    "# Display the df_users with the predictions\n",
    "df_users.head()"
   ]
  },
  {
   "cell_type": "markdown",
   "id": "6f5b1749-401d-4419-989f-78e2ac493118",
   "metadata": {
    "tags": []
   },
   "source": [
    "# 4. Model Evaluation"
   ]
  },
  {
   "cell_type": "markdown",
   "id": "9d13d967-bcb6-4db1-8a27-c523905b7d58",
   "metadata": {},
   "source": [
    "To evaluate the performance of our recommendation system, we will employ the NDCG (normalized discounted cumulative gain) metric. NDCG is a widely used measure to assess the effectiveness of ranking systems, considering the positions of relevant items within the ranked list. Its calculation takes into account the relevance of each item and the position at which it appears in the recommendation list (see more [here](https://medium.com/@readsumant/understanding-ndcg-as-a-metric-for-your-recomendation-system-5cd012fb3397#:~:text=Normalized%20Discounted%20Cumulative%20Gain%20or,relevant%20products%20are%20ranked%20higher.)).\n",
    "\n",
    "In our evaluation, we will specifically focus on the NDCG scores generated by our model for the top 5 and top 10 recommended courses. By examining these scores, we can gauge the accuracy and effectiveness of our model in suggesting relevant and valuable courses to users."
   ]
  },
  {
   "cell_type": "markdown",
   "id": "af5e6c78-fc0b-4a93-a4c2-8914efeb69c9",
   "metadata": {},
   "source": [
    "To make it easier, we have created the function `calculate_dcg()` that calculates the DCG given a list of scores."
   ]
  },
  {
   "cell_type": "code",
   "execution_count": 15,
   "id": "2bbf3337-7c3e-45c8-aa26-902f40f456be",
   "metadata": {},
   "outputs": [],
   "source": [
    "# Function to calculate DCG given a list of relevance scores\n",
    "def calculate_dcg(scores):\n",
    "    # Create the DCG variable\n",
    "    dcg = 0\n",
    "    # Calculate the DCG\n",
    "    for i, score in enumerate(scores, start=1):\n",
    "        dcg += score / np.log2(i + 1)\n",
    "    # Return the DCG\n",
    "    return dcg"
   ]
  },
  {
   "cell_type": "markdown",
   "id": "8155496a-910b-491a-a039-012617c1ece8",
   "metadata": {},
   "source": [
    "By using this function, we are going to score our model on the top 10 and top 5 predictions. Moreover, we are going to also score our random recommender since it is our benchmark model that we are going to compare against."
   ]
  },
  {
   "cell_type": "markdown",
   "id": "8650236f-6c7d-41e1-a5f2-527898682156",
   "metadata": {},
   "source": [
    "NDCGs for the top 10 courses."
   ]
  },
  {
   "cell_type": "code",
   "execution_count": 16,
   "id": "d7b9ed5f-96f1-4e42-a0dc-d3fcf1e1a83e",
   "metadata": {},
   "outputs": [],
   "source": [
    "# New column for the NDCG of each user\n",
    "df_users[\"pred_ndcg_10\"] = \"\"\n",
    "df_users[\"random_ndcg_10\"] = \"\"\n",
    "\n",
    "for index, row in df_users.iterrows():\n",
    "    # Select the data for this user\n",
    "    ground_truth_str = row['ground_truth_10']\n",
    "    ground_truth = json.loads(ground_truth_str) # Necessary to conver the ground_truth_10 to an array\n",
    "    predictions = row['predictions_10']\n",
    "    predictions_rand = row['predictions_rand_10']\n",
    "    # Create the relevance scores in order to calculate the DCG\n",
    "    #Initialize the dictionary and score\n",
    "    relevance_scores = {}\n",
    "    score = len(predictions)\n",
    "    # Iterate over the ground_truth values to assign the relevance score\n",
    "    for value in ground_truth:\n",
    "        if value not in relevance_scores:\n",
    "            relevance_scores[value] = score\n",
    "            score -= 1\n",
    "    # Score the ground truth and the predicted courses\n",
    "    ground_truth_scores = [relevance_scores.get(item, 0) for item in ground_truth]\n",
    "    prediction_scores = [relevance_scores.get(item, 0) for item in predictions]\n",
    "    prediction_rand_scores = [relevance_scores.get(item, 0) for item in predictions_rand]\n",
    "    # Calculate the DCG and IDCG\n",
    "    dcg = calculate_dcg(prediction_scores)\n",
    "    dcg_rand = calculate_dcg(prediction_rand_scores)\n",
    "    idcg = calculate_dcg(ground_truth_scores)\n",
    "    # Calculate the NDCG\n",
    "    ndcg = dcg / idcg if idcg != 0 else 0\n",
    "    # Calculate the NDCG for the random\n",
    "    ndcg_rand= dcg_rand / idcg if idcg != 0 else 0\n",
    "    # Pass the value to the new column for the NDCG\n",
    "    df_users.at[index, \"pred_ndcg_10\"] = ndcg\n",
    "    df_users.at[index, \"random_ndcg_10\"] = ndcg_rand"
   ]
  },
  {
   "cell_type": "markdown",
   "id": "b35b9df2-2d14-4958-b008-fdb26681cb97",
   "metadata": {},
   "source": [
    "NDCG for the top 5 courses."
   ]
  },
  {
   "cell_type": "code",
   "execution_count": 17,
   "id": "cb90cb3c-11f0-48ab-beea-ffb053ad9978",
   "metadata": {},
   "outputs": [],
   "source": [
    "# New column for the NDCG of each user\n",
    "df_users[\"pred_ndcg_5\"] = \"\"\n",
    "df_users[\"random_ndcg_5\"] = \"\"\n",
    "\n",
    "for index, row in df_users.iterrows():\n",
    "    # Select the data for this user\n",
    "    ground_truth_str = row['ground_truth_5']\n",
    "    ground_truth = json.loads(ground_truth_str) # Necessary to conver the ground_truth_10 to an array\n",
    "    predictions = row['predictions_5']\n",
    "    predictions_rand = row['predictions_rand_5']\n",
    "    # Create the relevance scores in order to calculate the DCG\n",
    "    #Initialize the dictionary and score\n",
    "    relevance_scores = {}\n",
    "    score = len(predictions)\n",
    "    # Iterate over the ground_truth values to assign the relevance score\n",
    "    for value in ground_truth:\n",
    "        if value not in relevance_scores:\n",
    "            relevance_scores[value] = score\n",
    "            score -= 1\n",
    "    # Score the ground truth and the predicted courses\n",
    "    ground_truth_scores = [relevance_scores.get(item, 0) for item in ground_truth]\n",
    "    prediction_scores = [relevance_scores.get(item, 0) for item in predictions]\n",
    "    prediction_rand_scores = [relevance_scores.get(item, 0) for item in predictions_rand]    \n",
    "    # Calculate the DCG and IDCG\n",
    "    dcg = calculate_dcg(prediction_scores)\n",
    "    dcg_rand = calculate_dcg(prediction_rand_scores)\n",
    "    idcg = calculate_dcg(ground_truth_scores)    \n",
    "    # Calculate the NDCG\n",
    "    ndcg = dcg / idcg if idcg != 0 else 0\n",
    "    # Calculate the NDCG for the random\n",
    "    ndcg_rand= dcg_rand / idcg if idcg != 0 else 0\n",
    "    # Pass the value to the new column for the NDCG\n",
    "    df_users.at[index, \"pred_ndcg_5\"] = ndcg\n",
    "    df_users.at[index, \"random_ndcg_5\"] = ndcg_rand"
   ]
  },
  {
   "cell_type": "markdown",
   "id": "ad48e362-76b2-4840-93ef-3ab6007794fe",
   "metadata": {},
   "source": [
    "Display of the scores for each user."
   ]
  },
  {
   "cell_type": "code",
   "execution_count": 18,
   "id": "5ac7fc4a-24fd-4287-b416-1e16436eace9",
   "metadata": {},
   "outputs": [
    {
     "data": {
      "text/html": [
       "<div>\n",
       "<style scoped>\n",
       "    .dataframe tbody tr th:only-of-type {\n",
       "        vertical-align: middle;\n",
       "    }\n",
       "\n",
       "    .dataframe tbody tr th {\n",
       "        vertical-align: top;\n",
       "    }\n",
       "\n",
       "    .dataframe thead th {\n",
       "        text-align: right;\n",
       "    }\n",
       "</style>\n",
       "<table border=\"1\" class=\"dataframe\">\n",
       "  <thead>\n",
       "    <tr style=\"text-align: right;\">\n",
       "      <th></th>\n",
       "      <th>id</th>\n",
       "      <th>pred_ndcg_10</th>\n",
       "      <th>random_ndcg_10</th>\n",
       "      <th>pred_ndcg_5</th>\n",
       "      <th>random_ndcg_5</th>\n",
       "    </tr>\n",
       "  </thead>\n",
       "  <tbody>\n",
       "    <tr>\n",
       "      <th>0</th>\n",
       "      <td>1</td>\n",
       "      <td>0.790172</td>\n",
       "      <td>0.170286</td>\n",
       "      <td>0.681469</td>\n",
       "      <td>0.16771</td>\n",
       "    </tr>\n",
       "    <tr>\n",
       "      <th>1</th>\n",
       "      <td>2</td>\n",
       "      <td>0.580434</td>\n",
       "      <td>0.209306</td>\n",
       "      <td>0.550146</td>\n",
       "      <td>0.0</td>\n",
       "    </tr>\n",
       "    <tr>\n",
       "      <th>2</th>\n",
       "      <td>3</td>\n",
       "      <td>0.489273</td>\n",
       "      <td>0.497221</td>\n",
       "      <td>0.457758</td>\n",
       "      <td>0.194705</td>\n",
       "    </tr>\n",
       "    <tr>\n",
       "      <th>3</th>\n",
       "      <td>4</td>\n",
       "      <td>0.838059</td>\n",
       "      <td>0.28807</td>\n",
       "      <td>0.649002</td>\n",
       "      <td>0.755638</td>\n",
       "    </tr>\n",
       "    <tr>\n",
       "      <th>4</th>\n",
       "      <td>5</td>\n",
       "      <td>0.793862</td>\n",
       "      <td>0.475961</td>\n",
       "      <td>0.469578</td>\n",
       "      <td>0.075322</td>\n",
       "    </tr>\n",
       "    <tr>\n",
       "      <th>5</th>\n",
       "      <td>6</td>\n",
       "      <td>0.443897</td>\n",
       "      <td>0.347213</td>\n",
       "      <td>0.307114</td>\n",
       "      <td>0.317551</td>\n",
       "    </tr>\n",
       "    <tr>\n",
       "      <th>6</th>\n",
       "      <td>7</td>\n",
       "      <td>0.798135</td>\n",
       "      <td>0.480225</td>\n",
       "      <td>0.742892</td>\n",
       "      <td>0.083855</td>\n",
       "    </tr>\n",
       "    <tr>\n",
       "      <th>7</th>\n",
       "      <td>8</td>\n",
       "      <td>0.396569</td>\n",
       "      <td>0.415256</td>\n",
       "      <td>0.394027</td>\n",
       "      <td>0.304805</td>\n",
       "    </tr>\n",
       "    <tr>\n",
       "      <th>8</th>\n",
       "      <td>9</td>\n",
       "      <td>0.572692</td>\n",
       "      <td>0.529272</td>\n",
       "      <td>0.486764</td>\n",
       "      <td>0.223135</td>\n",
       "    </tr>\n",
       "    <tr>\n",
       "      <th>9</th>\n",
       "      <td>10</td>\n",
       "      <td>0.4547</td>\n",
       "      <td>0.323269</td>\n",
       "      <td>0.171522</td>\n",
       "      <td>0.245691</td>\n",
       "    </tr>\n",
       "    <tr>\n",
       "      <th>10</th>\n",
       "      <td>11</td>\n",
       "      <td>0.617932</td>\n",
       "      <td>0.447251</td>\n",
       "      <td>0.637408</td>\n",
       "      <td>0.16771</td>\n",
       "    </tr>\n",
       "    <tr>\n",
       "      <th>11</th>\n",
       "      <td>12</td>\n",
       "      <td>0.64301</td>\n",
       "      <td>0.107971</td>\n",
       "      <td>0.587807</td>\n",
       "      <td>0.097353</td>\n",
       "    </tr>\n",
       "    <tr>\n",
       "      <th>12</th>\n",
       "      <td>13</td>\n",
       "      <td>0.44336</td>\n",
       "      <td>0.595982</td>\n",
       "      <td>0.209638</td>\n",
       "      <td>0.125783</td>\n",
       "    </tr>\n",
       "    <tr>\n",
       "      <th>13</th>\n",
       "      <td>14</td>\n",
       "      <td>0.878379</td>\n",
       "      <td>0.284209</td>\n",
       "      <td>0.826747</td>\n",
       "      <td>0.613072</td>\n",
       "    </tr>\n",
       "    <tr>\n",
       "      <th>14</th>\n",
       "      <td>15</td>\n",
       "      <td>0.486929</td>\n",
       "      <td>0.324878</td>\n",
       "      <td>0.270028</td>\n",
       "      <td>0.125783</td>\n",
       "    </tr>\n",
       "    <tr>\n",
       "      <th>15</th>\n",
       "      <td>16</td>\n",
       "      <td>0.808541</td>\n",
       "      <td>0.619971</td>\n",
       "      <td>0.858639</td>\n",
       "      <td>0.344775</td>\n",
       "    </tr>\n",
       "    <tr>\n",
       "      <th>16</th>\n",
       "      <td>17</td>\n",
       "      <td>0.475437</td>\n",
       "      <td>0.444542</td>\n",
       "      <td>0.343044</td>\n",
       "      <td>0.317551</td>\n",
       "    </tr>\n",
       "    <tr>\n",
       "      <th>17</th>\n",
       "      <td>18</td>\n",
       "      <td>0.631782</td>\n",
       "      <td>0.361357</td>\n",
       "      <td>0.455449</td>\n",
       "      <td>0.0</td>\n",
       "    </tr>\n",
       "    <tr>\n",
       "      <th>18</th>\n",
       "      <td>19</td>\n",
       "      <td>0.794749</td>\n",
       "      <td>0.33727</td>\n",
       "      <td>0.53948</td>\n",
       "      <td>0.465766</td>\n",
       "    </tr>\n",
       "    <tr>\n",
       "      <th>19</th>\n",
       "      <td>20</td>\n",
       "      <td>0.648939</td>\n",
       "      <td>0.578445</td>\n",
       "      <td>0.572177</td>\n",
       "      <td>0.307114</td>\n",
       "    </tr>\n",
       "  </tbody>\n",
       "</table>\n",
       "</div>"
      ],
      "text/plain": [
       "    id pred_ndcg_10 random_ndcg_10 pred_ndcg_5 random_ndcg_5\n",
       "0    1     0.790172       0.170286    0.681469       0.16771\n",
       "1    2     0.580434       0.209306    0.550146           0.0\n",
       "2    3     0.489273       0.497221    0.457758      0.194705\n",
       "3    4     0.838059        0.28807    0.649002      0.755638\n",
       "4    5     0.793862       0.475961    0.469578      0.075322\n",
       "5    6     0.443897       0.347213    0.307114      0.317551\n",
       "6    7     0.798135       0.480225    0.742892      0.083855\n",
       "7    8     0.396569       0.415256    0.394027      0.304805\n",
       "8    9     0.572692       0.529272    0.486764      0.223135\n",
       "9   10       0.4547       0.323269    0.171522      0.245691\n",
       "10  11     0.617932       0.447251    0.637408       0.16771\n",
       "11  12      0.64301       0.107971    0.587807      0.097353\n",
       "12  13      0.44336       0.595982    0.209638      0.125783\n",
       "13  14     0.878379       0.284209    0.826747      0.613072\n",
       "14  15     0.486929       0.324878    0.270028      0.125783\n",
       "15  16     0.808541       0.619971    0.858639      0.344775\n",
       "16  17     0.475437       0.444542    0.343044      0.317551\n",
       "17  18     0.631782       0.361357    0.455449           0.0\n",
       "18  19     0.794749        0.33727     0.53948      0.465766\n",
       "19  20     0.648939       0.578445    0.572177      0.307114"
      ]
     },
     "execution_count": 18,
     "metadata": {},
     "output_type": "execute_result"
    }
   ],
   "source": [
    "# Display the scores\n",
    "df_scores = df_users.loc[:, [\"id\", \"pred_ndcg_10\", \"random_ndcg_10\", \"pred_ndcg_5\", \"random_ndcg_5\"]]\n",
    "df_scores"
   ]
  },
  {
   "cell_type": "markdown",
   "id": "0af05908-9b4e-4e99-8ed7-10066b13b7f9",
   "metadata": {},
   "source": [
    "Average model scores."
   ]
  },
  {
   "cell_type": "code",
   "execution_count": 19,
   "id": "e4ebac85-cb79-4593-871f-d25110bccf00",
   "metadata": {},
   "outputs": [
    {
     "data": {
      "text/plain": [
       "pred_ndcg_10      0.629343\n",
       "random_ndcg_10    0.391898\n",
       "pred_ndcg_5       0.510534\n",
       "random_ndcg_5     0.246666\n",
       "dtype: float64"
      ]
     },
     "execution_count": 19,
     "metadata": {},
     "output_type": "execute_result"
    }
   ],
   "source": [
    "df_scores.loc[:,[\"pred_ndcg_10\", \"random_ndcg_10\", \"pred_ndcg_5\", \"random_ndcg_5\"]].mean()"
   ]
  },
  {
   "cell_type": "markdown",
   "id": "b984675b-f4a1-4106-b87a-2b6b20674fbf",
   "metadata": {},
   "source": [
    "By looking at the results, there are three major insights:\n",
    "\n",
    "- In the case of courses recommendations, the top 5 score is more relevant because students in general will focus on a curriculum of 5 classes rather than 10. Taking this into consideration, maximazing the NDCG for the top 5 should be a priority.\n",
    "\n",
    "- The model is performing better than the random recommender overall. However, when it comes to predicting the top 5, our model signficantly outperforms the benchmark (random recommender sometimes has a NDCG score of \"0\", which means that all the courses provided are not relevant).\n",
    "\n",
    "- Both scores for the model outperform the benchmark by a large margin. This means that the model is powerful at predicting the general preference of the individual (NDCG 10) and recommending a specific curriculum (NDCG 5)."
   ]
  }
 ],
 "metadata": {
  "kernelspec": {
   "display_name": "Python 3 (ipykernel)",
   "language": "python",
   "name": "python3"
  },
  "language_info": {
   "codemirror_mode": {
    "name": "ipython",
    "version": 3
   },
   "file_extension": ".py",
   "mimetype": "text/x-python",
   "name": "python",
   "nbconvert_exporter": "python",
   "pygments_lexer": "ipython3",
   "version": "3.9.12"
  }
 },
 "nbformat": 4,
 "nbformat_minor": 5
}
